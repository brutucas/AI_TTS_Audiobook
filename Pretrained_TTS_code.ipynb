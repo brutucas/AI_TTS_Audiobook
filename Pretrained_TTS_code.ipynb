{
 "cells": [
  {
   "cell_type": "code",
   "execution_count": null,
   "id": "b6f75762-bbbb-4298-8b5f-79ead585eeeb",
   "metadata": {},
   "outputs": [],
   "source": [
    "from TTS.api import TTS"
   ]
  },
  {
   "cell_type": "code",
   "execution_count": null,
   "id": "dbb88a17-3ea6-4981-9c83-95b992d0de91",
   "metadata": {},
   "outputs": [],
   "source": [
    "tts = TTS(model_name=\"tts_models/multilingual/multi-dataset/xtts_v2\", progress_bar=False)\n",
    "tts.tts_to_file(\".\", speaker_wav=\"../Resources/Benjamin Lucas Voice Recording.wav\", language='en', file_path=\"../Resources/voice_demo_bl.wav\")"
   ]
  },
  {
   "cell_type": "code",
   "execution_count": null,
   "id": "ff92f599",
   "metadata": {},
   "outputs": [],
   "source": [
    "tts --list_models"
   ]
  },
  {
   "cell_type": "code",
   "execution_count": null,
   "id": "3d3c08d5",
   "metadata": {},
   "outputs": [],
   "source": [
    "# Example code that I needed to edit and personalise\n",
    "tts = TTS(model_name=\"tts_models/multilingual/multi-dataset/your_tts\", progress_bar=False).to(device)\n",
    "tts.tts_to_file(\"This is voice cloning.\", speaker_wav=\"my/cloning/audio.wav\", language=\"en\", file_path=\"output.wav\")"
   ]
  },
  {
   "cell_type": "code",
   "execution_count": null,
   "id": "049db63e-7cb4-462c-9b52-59a4115cada8",
   "metadata": {},
   "outputs": [],
   "source": [
    "tts = TTS(\"tts_models/de/thorsten/tacotron2-DDC\")\n",
    "tts.tts_with_vc_to_file(\n",
    "    \"Wie sage ich auf Italienisch, dass ich dich liebe?\",\n",
    "    file_path=\"ouptut.wav\"\n",
    ")"
   ]
  }
 ],
 "metadata": {
  "kernelspec": {
   "display_name": "Python 3 (ipykernel)",
   "language": "python",
   "name": "python3"
  },
  "language_info": {
   "codemirror_mode": {
    "name": "ipython",
    "version": 3
   },
   "file_extension": ".py",
   "mimetype": "text/x-python",
   "name": "python",
   "nbconvert_exporter": "python",
   "pygments_lexer": "ipython3",
   "version": "3.11.7"
  }
 },
 "nbformat": 4,
 "nbformat_minor": 5
}
